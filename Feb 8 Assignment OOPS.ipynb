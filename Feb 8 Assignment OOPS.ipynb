{
 "cells": [
  {
   "cell_type": "markdown",
   "id": "c4a6176c-ed17-42cf-9047-79348f82598b",
   "metadata": {},
   "source": [
    "Q1. What is Abstraction in OOps? Explain with an example."
   ]
  },
  {
   "cell_type": "markdown",
   "id": "89443a26-035e-420b-9888-148196cd0aec",
   "metadata": {},
   "source": [
    "Answer= Abstraction is the process of hiding uncessary information from the user.\n",
    "For example we have 1 primary class and 2 secondary classes and we have defined our functions in the primary class so  via abstraction we can use the same function in our secondary classes as well.\n",
    "\n"
   ]
  },
  {
   "cell_type": "code",
   "execution_count": 1,
   "id": "b11d5591-825e-4528-8463-abbfb3d60e27",
   "metadata": {},
   "outputs": [],
   "source": [
    "import abc\n",
    "\n",
    "class class1():\n",
    "    @abc.abstractmethod\n",
    "    def primary_class(self):\n",
    "        pass\n",
    "\n",
    "    "
   ]
  },
  {
   "cell_type": "code",
   "execution_count": 2,
   "id": "bfb3729b-cf00-4fea-ba96-21347773744e",
   "metadata": {},
   "outputs": [],
   "source": [
    "class sec1(class1):\n",
    "    def primary_class(self):\n",
    "        return \"defination 1 via calling the primary class func\" \n",
    "    \n",
    "class sec2(class1):\n",
    "    def primary_class(self):\n",
    "        return \" this is the other defination by calling the same function from the class 1\""
   ]
  },
  {
   "cell_type": "code",
   "execution_count": 3,
   "id": "b50d30ee-f313-40d6-85c3-8886b4e7e9ad",
   "metadata": {},
   "outputs": [],
   "source": [
    "obj1=sec1()\n",
    "obj2=sec2()"
   ]
  },
  {
   "cell_type": "code",
   "execution_count": 4,
   "id": "13a8ae24-251a-4a02-862b-ad570deea79d",
   "metadata": {},
   "outputs": [
    {
     "data": {
      "text/plain": [
       "'defination 1 via calling the primary class func'"
      ]
     },
     "execution_count": 4,
     "metadata": {},
     "output_type": "execute_result"
    }
   ],
   "source": [
    "obj1.primary_class()"
   ]
  },
  {
   "cell_type": "code",
   "execution_count": 5,
   "id": "94522109-d420-45bc-bcd4-8934a4b2997e",
   "metadata": {},
   "outputs": [
    {
     "data": {
      "text/plain": [
       "' this is the other defination by calling the same function from the class 1'"
      ]
     },
     "execution_count": 5,
     "metadata": {},
     "output_type": "execute_result"
    }
   ],
   "source": [
    "obj2.primary_class()"
   ]
  },
  {
   "cell_type": "markdown",
   "id": "4a1bb98a-e650-439f-8767-807533bd8963",
   "metadata": {},
   "source": [
    "*******************************"
   ]
  },
  {
   "cell_type": "markdown",
   "id": "20600b39-880a-4731-9f14-4608e4fee8c6",
   "metadata": {},
   "source": [
    "Q2. Differentiate between Abstraction and Encapsulation. Explain with an example.\n",
    "\n",
    "Answer=- Abstraction is used to create a general blueprint of the code by using the same function to reflect its different definations.\n",
    "Encapsulation is used when we have to give an input and does not want it to show via class name.\n",
    "In encapsulation we use \"__\" to give the input so that it can not be accessed by the class object."
   ]
  },
  {
   "cell_type": "code",
   "execution_count": 7,
   "id": "95a23978-c2ac-439b-b33b-618b538f19b0",
   "metadata": {},
   "outputs": [],
   "source": [
    "#example of abstraction\n",
    "\n",
    "import abc\n",
    "\n",
    "class class1():\n",
    "    @abc.abstractmethod\n",
    "    def primary_class(self):\n",
    "        return \"primary class\"\n",
    "\n",
    "class sec1(class1):\n",
    "    def primary_class(self):\n",
    "        return \"defination 1 via calling the primary class func\" \n",
    "    \n",
    "class sec2(class1):\n",
    "    def primary_class(self):\n",
    "        return \" this is the other defination by calling the same function from the class 1\"\n",
    "    \n",
    "obj1=sec1()\n",
    "obj2=sec2()"
   ]
  },
  {
   "cell_type": "code",
   "execution_count": 8,
   "id": "8ae591f9-2e5d-49b3-98d4-53a8b1a28202",
   "metadata": {},
   "outputs": [
    {
     "data": {
      "text/plain": [
       "'defination 1 via calling the primary class func'"
      ]
     },
     "execution_count": 8,
     "metadata": {},
     "output_type": "execute_result"
    }
   ],
   "source": [
    "obj1.primary_class()"
   ]
  },
  {
   "cell_type": "code",
   "execution_count": 9,
   "id": "78c3652c-1945-43fc-b994-bae6ecc3ad6c",
   "metadata": {},
   "outputs": [
    {
     "data": {
      "text/plain": [
       "' this is the other defination by calling the same function from the class 1'"
      ]
     },
     "execution_count": 9,
     "metadata": {},
     "output_type": "execute_result"
    }
   ],
   "source": [
    "obj2.primary_class()"
   ]
  },
  {
   "cell_type": "code",
   "execution_count": 19,
   "id": "46e7a0eb-4e24-4ac3-9bbf-43759d4ad15c",
   "metadata": {},
   "outputs": [],
   "source": [
    "#example of encapsulation\n",
    "\n",
    "class car():\n",
    "    def __init__(self,make,model,year):\n",
    "        self.__make=make\n",
    "        self.__model=model\n",
    "        self.__year=year\n",
    "        \n",
    "    def car_details(self):\n",
    "        return self.__make,self.__model,self.__year"
   ]
  },
  {
   "cell_type": "code",
   "execution_count": 20,
   "id": "741ebc58-6000-482f-8334-a18837642e8e",
   "metadata": {},
   "outputs": [],
   "source": [
    "obj=car(\"tata\",\"tiago\",2019)"
   ]
  },
  {
   "cell_type": "code",
   "execution_count": 21,
   "id": "1e443bb0-084a-44c8-bb7e-795218f988fa",
   "metadata": {},
   "outputs": [
    {
     "data": {
      "text/plain": [
       "('tata', 'tiago', 2019)"
      ]
     },
     "execution_count": 21,
     "metadata": {},
     "output_type": "execute_result"
    }
   ],
   "source": [
    "obj.car_details()"
   ]
  },
  {
   "cell_type": "markdown",
   "id": "e0cf115a-e9de-4733-94c0-a3bf0763b3df",
   "metadata": {},
   "source": [
    "Now as we have encapsulated the data so we can get the output only by using the obj.car_details() and it will not allow us to check the values of make , model and year separately."
   ]
  },
  {
   "cell_type": "markdown",
   "id": "ee8f87d0-0343-4cd4-bbbd-931e76c7fe3c",
   "metadata": {},
   "source": [
    "_______"
   ]
  },
  {
   "cell_type": "markdown",
   "id": "8ea35504-e489-4709-9fb2-e3256695bf78",
   "metadata": {},
   "source": [
    "Q3. What is abc module in python? Why is it used?\n",
    "\n",
    "Answer- abc module is kind of inbuilt function which allows you to use the same function in other classes as well. \n",
    "________________________"
   ]
  },
  {
   "cell_type": "markdown",
   "id": "a01e5a70-d508-4982-95ed-b5430ca24da8",
   "metadata": {},
   "source": [
    "Q4. How can we achieve data abstraction?\n",
    "\n",
    "Answer- To use abstraction first we need to call   import abc\n",
    " and then before defining our function we need to use @abc.abstractmethod\n",
    "    "
   ]
  },
  {
   "cell_type": "markdown",
   "id": "4b3ab37e-9824-4c36-849e-eb4625273021",
   "metadata": {},
   "source": [
    "________________________"
   ]
  },
  {
   "cell_type": "markdown",
   "id": "8550e482-cf81-400a-8937-82f3f53b1dec",
   "metadata": {},
   "source": [
    "Q5. Can we create an instance of an abstract class? Explain your answer."
   ]
  },
  {
   "cell_type": "code",
   "execution_count": 25,
   "id": "a5b5c852-1353-481b-9db3-3f8349919522",
   "metadata": {},
   "outputs": [],
   "source": [
    "# Yes, we can create an instance function of abstraction. \n",
    "# In the below code we have used abstract method in the class 1 and in both the sec1 and sec2 we have defined an instance function which is primary details \n",
    "# import abc\n",
    "\n",
    "class class1():\n",
    "    @abc.abstractmethod\n",
    "    def primary_class(self):\n",
    "        return \"primary class\"\n",
    "\n",
    "class sec1(class1):\n",
    "    def primary_class(self):\n",
    "        return \"defination 1 via calling the primary class func\" \n",
    "    \n",
    "class sec2(class1):\n",
    "    def primary_class(self):\n",
    "        return \" this is the other defination by calling the same function from the class 1\"\n",
    "    \n",
    "obj1=sec1()\n",
    "obj2=sec2()"
   ]
  },
  {
   "cell_type": "code",
   "execution_count": 26,
   "id": "9d7db85a-af7d-46c9-9f08-296b783ff9b9",
   "metadata": {},
   "outputs": [
    {
     "data": {
      "text/plain": [
       "'defination 1 via calling the primary class func'"
      ]
     },
     "execution_count": 26,
     "metadata": {},
     "output_type": "execute_result"
    }
   ],
   "source": [
    "obj1.primary_class()"
   ]
  },
  {
   "cell_type": "code",
   "execution_count": 27,
   "id": "a2023de6-6977-4eb4-b79a-6ec690e358d1",
   "metadata": {},
   "outputs": [
    {
     "data": {
      "text/plain": [
       "' this is the other defination by calling the same function from the class 1'"
      ]
     },
     "execution_count": 27,
     "metadata": {},
     "output_type": "execute_result"
    }
   ],
   "source": [
    "obj2.primary_class()"
   ]
  },
  {
   "cell_type": "code",
   "execution_count": null,
   "id": "539aab6f-49b9-48f7-909e-c87d9cb6749c",
   "metadata": {},
   "outputs": [],
   "source": []
  }
 ],
 "metadata": {
  "kernelspec": {
   "display_name": "Python 3 (ipykernel)",
   "language": "python",
   "name": "python3"
  },
  "language_info": {
   "codemirror_mode": {
    "name": "ipython",
    "version": 3
   },
   "file_extension": ".py",
   "mimetype": "text/x-python",
   "name": "python",
   "nbconvert_exporter": "python",
   "pygments_lexer": "ipython3",
   "version": "3.10.6"
  }
 },
 "nbformat": 4,
 "nbformat_minor": 5
}

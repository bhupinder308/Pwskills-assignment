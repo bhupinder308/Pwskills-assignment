{
 "cells": [
  {
   "cell_type": "markdown",
   "id": "b172b9e9-bcc9-49e1-811b-56f533328e6b",
   "metadata": {},
   "source": [
    "Q1, Create a vehicle class with an init method having instance variables as name_of_vehicle, max_speed\n",
    "and average_of_vehicle."
   ]
  },
  {
   "cell_type": "code",
   "execution_count": 14,
   "id": "73fc929c-d05e-4ff6-87ed-5b26eaa6e3d6",
   "metadata": {},
   "outputs": [],
   "source": [
    "class vehicle_class():\n",
    "    def __init__(self,name_of_vehicle, max_speed, average_of_vehicle):\n",
    "        self.name_of_vehicle=name_of_vehicle\n",
    "        self.max_speed=max_speed\n",
    "        self.average_of_vehicle=average_of_vehicle\n",
    "        \n",
    "    def vehicle_details(self):\n",
    "        return self.name_of_vehicle, self.max_speed, self.average_of_vehicle\n",
    "    "
   ]
  },
  {
   "cell_type": "code",
   "execution_count": 15,
   "id": "7f109f4e-f21f-47ee-aa62-349711b4e2ec",
   "metadata": {},
   "outputs": [],
   "source": [
    "obj1=vehicle_class(\"tiago\",140,18)"
   ]
  },
  {
   "cell_type": "code",
   "execution_count": 5,
   "id": "1172f8e0-fcf2-4fb2-9c66-dde565057764",
   "metadata": {},
   "outputs": [
    {
     "data": {
      "text/plain": [
       "('tiago', 140, 18)"
      ]
     },
     "execution_count": 5,
     "metadata": {},
     "output_type": "execute_result"
    }
   ],
   "source": [
    "obj1.vehicle_details()"
   ]
  },
  {
   "cell_type": "markdown",
   "id": "835c6b6c-c37f-4669-8ff0-05784ecb2d54",
   "metadata": {},
   "source": [
    "_______________________"
   ]
  },
  {
   "cell_type": "markdown",
   "id": "1a28c718-a9f6-4937-8745-924ace1ac499",
   "metadata": {},
   "source": [
    "Q2. Create a child class car from the vehicle class created in Que 1, which will inherit the vehicle class.\n",
    "Create a method named seating_capacity which takes capacity as an argument and returns the name of\n",
    "the vehicle and its seating capacity."
   ]
  },
  {
   "cell_type": "code",
   "execution_count": 16,
   "id": "69dc42f6-d365-4d56-b2a4-230ca0a96827",
   "metadata": {},
   "outputs": [],
   "source": [
    "class vehicle_class():\n",
    "    def __init__(self,name_of_vehicle, max_speed, average_of_vehicle):\n",
    "        self.name_of_vehicle=name_of_vehicle\n",
    "        self.max_speed=max_speed\n",
    "        self.average_of_vehicle=average_of_vehicle\n",
    "        \n",
    "    def vehicle_details(self):\n",
    "        return self.name_of_vehicle, self.max_speed, self.average_of_vehicle\n",
    "\n",
    "class child_class_car(vehicle_class):\n",
    "    def seating_capacity(self,capacity):\n",
    "        return capacity, self.name_of_vehicle"
   ]
  },
  {
   "cell_type": "code",
   "execution_count": 19,
   "id": "6781d2be-2bf1-4efd-8243-33de0b038e69",
   "metadata": {},
   "outputs": [],
   "source": [
    "obj2=child_class_car(\"tiago\",140,18)"
   ]
  },
  {
   "cell_type": "code",
   "execution_count": 20,
   "id": "9c90b20b-efae-4152-9f5a-d1d361c69da4",
   "metadata": {},
   "outputs": [
    {
     "data": {
      "text/plain": [
       "(4, 'tiago')"
      ]
     },
     "execution_count": 20,
     "metadata": {},
     "output_type": "execute_result"
    }
   ],
   "source": [
    "obj2.seating_capacity(4)"
   ]
  },
  {
   "cell_type": "markdown",
   "id": "48dbcdb1-7420-4b8c-8336-04498729e8c2",
   "metadata": {},
   "source": [
    "____________________________"
   ]
  },
  {
   "cell_type": "markdown",
   "id": "9ee4f11d-8199-4a54-a790-df873a669f68",
   "metadata": {},
   "source": [
    "Q3. What is multiple inheritance? Write a python code to demonstrate multiple inheritance.\n",
    "\n",
    "Answer- If a child class inherits properties of more then 1 class then it is called multiple inheritence. "
   ]
  },
  {
   "cell_type": "code",
   "execution_count": 21,
   "id": "86e3a93c-c594-4097-86cc-4c4b6a78ad76",
   "metadata": {},
   "outputs": [],
   "source": [
    "class car():\n",
    "    def car_name(self):\n",
    "        return \" car make is Tata\" \n",
    "    \n",
    "class model():\n",
    "    def car_model(self):\n",
    "        return \"car name is Tiago\"\n",
    "    \n",
    "class car_details(car, model):\n",
    "    def gen_details(self):\n",
    "        pass\n",
    "\n"
   ]
  },
  {
   "cell_type": "code",
   "execution_count": 22,
   "id": "f96e3ca2-62b1-4a76-a337-fb1f91352996",
   "metadata": {},
   "outputs": [],
   "source": [
    "obj3=car_details()"
   ]
  },
  {
   "cell_type": "code",
   "execution_count": 23,
   "id": "22fc6afc-2583-4d00-a9ed-8d80f0c8adc8",
   "metadata": {},
   "outputs": [
    {
     "data": {
      "text/plain": [
       "' car make is Tata'"
      ]
     },
     "execution_count": 23,
     "metadata": {},
     "output_type": "execute_result"
    }
   ],
   "source": [
    "obj3.car_name()"
   ]
  },
  {
   "cell_type": "code",
   "execution_count": 25,
   "id": "754577dc-a304-488e-a562-8f45ec64ae3e",
   "metadata": {},
   "outputs": [
    {
     "data": {
      "text/plain": [
       "' car make is Tata'"
      ]
     },
     "execution_count": 25,
     "metadata": {},
     "output_type": "execute_result"
    }
   ],
   "source": [
    "obj3.car_name()"
   ]
  },
  {
   "cell_type": "markdown",
   "id": "ba2236e9-c976-4462-a998-026d48f43dbd",
   "metadata": {},
   "source": [
    "So, here in the above code the car_name and model are two parent class and the car_details is the child class which inherits the properties of the above 2 classess and we can call the car make and model separately via calling the object name."
   ]
  },
  {
   "cell_type": "markdown",
   "id": "b4d788f6-bfbd-4701-a8d0-434fb845cc36",
   "metadata": {},
   "source": [
    "_________________________"
   ]
  },
  {
   "cell_type": "markdown",
   "id": "8b187e5b-5dba-481f-a125-199e555859a5",
   "metadata": {},
   "source": [
    "Q4. What are getter and setter in python? Create a class and create a getter and a setter method in this\n",
    "class."
   ]
  },
  {
   "cell_type": "markdown",
   "id": "be73d740-aba6-4dbf-a57e-d7129ef417fd",
   "metadata": {},
   "source": [
    "Answer-- Getters are used to retrieve the value of private arguments.\n",
    "Setters are used to overide the value of the private arguments."
   ]
  },
  {
   "cell_type": "code",
   "execution_count": 41,
   "id": "bc1bbd5e-af3c-44ff-9709-d856aeeac9e5",
   "metadata": {},
   "outputs": [],
   "source": [
    "class car():\n",
    "    def __init__(self,make,model,year):\n",
    "        self.__make=make\n",
    "        self.__model=model\n",
    "        self.__year=year\n",
    "        \n",
    "    def car_details(self):\n",
    "        return self.__make,self.__model,self.__year\n",
    "    \n",
    "    #the make, model and year are private so let's try to retieve the make and reset it\n",
    "    \n",
    "    @property\n",
    "    def get_make(self):\n",
    "        return self.__make\n",
    "    \n",
    "    #let's try to update the make with Hyundai\n",
    "    \n",
    "    @get_make.setter\n",
    "    def update_make(self, new_make):\n",
    "        self.__make=new_make\n",
    "        \n",
    "        \n",
    "        "
   ]
  },
  {
   "cell_type": "code",
   "execution_count": 42,
   "id": "91628ca6-34f8-4de5-936d-a8405f219a09",
   "metadata": {},
   "outputs": [],
   "source": [
    "obj4=car(\"tata\",\"tiago\",\"2019\")"
   ]
  },
  {
   "cell_type": "code",
   "execution_count": 43,
   "id": "189eda78-88af-48b4-a233-217cefc41930",
   "metadata": {},
   "outputs": [
    {
     "data": {
      "text/plain": [
       "('tata', 'tiago', '2019')"
      ]
     },
     "execution_count": 43,
     "metadata": {},
     "output_type": "execute_result"
    }
   ],
   "source": [
    "obj4.car_details()"
   ]
  },
  {
   "cell_type": "code",
   "execution_count": 46,
   "id": "66303e90-9699-406f-a760-50355f6f09a7",
   "metadata": {},
   "outputs": [
    {
     "data": {
      "text/plain": [
       "'hyundai'"
      ]
     },
     "execution_count": 46,
     "metadata": {},
     "output_type": "execute_result"
    }
   ],
   "source": [
    "obj4.get_make"
   ]
  },
  {
   "cell_type": "code",
   "execution_count": 45,
   "id": "1fd378f1-a40d-4dc5-9472-6f6b749005e8",
   "metadata": {},
   "outputs": [],
   "source": [
    "obj4.update_make=\"hyundai\""
   ]
  },
  {
   "cell_type": "code",
   "execution_count": null,
   "id": "0d5020b0-aaf1-402b-a12d-daa515b680d5",
   "metadata": {},
   "outputs": [],
   "source": []
  }
 ],
 "metadata": {
  "kernelspec": {
   "display_name": "Python 3 (ipykernel)",
   "language": "python",
   "name": "python3"
  },
  "language_info": {
   "codemirror_mode": {
    "name": "ipython",
    "version": 3
   },
   "file_extension": ".py",
   "mimetype": "text/x-python",
   "name": "python",
   "nbconvert_exporter": "python",
   "pygments_lexer": "ipython3",
   "version": "3.10.6"
  }
 },
 "nbformat": 4,
 "nbformat_minor": 5
}

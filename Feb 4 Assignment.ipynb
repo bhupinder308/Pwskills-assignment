{
 "cells": [
  {
   "cell_type": "markdown",
   "id": "4ece551f-35db-4991-8a4b-fb45b4456f3d",
   "metadata": {},
   "source": [
    "Q2. Write a Python Program to find the squares of all the numbers in the given list of integers using\n",
    "lambda and map functions.\n",
    "[1, 2, 3, 4, 5, 6, 7, 8, 9, 10]"
   ]
  },
  {
   "cell_type": "code",
   "execution_count": 41,
   "id": "5b32273d-7c8e-4972-b6f4-0fe57f57f195",
   "metadata": {},
   "outputs": [],
   "source": [
    "l=[1, 2, 3, 4, 5, 6, 7, 8, 9, 10]"
   ]
  },
  {
   "cell_type": "code",
   "execution_count": 42,
   "id": "e4814c12-d70d-427f-8cac-81e31f6f968f",
   "metadata": {},
   "outputs": [
    {
     "data": {
      "text/plain": [
       "[1, 4, 9, 16, 25, 36, 49, 64, 81, 100]"
      ]
     },
     "execution_count": 42,
     "metadata": {},
     "output_type": "execute_result"
    }
   ],
   "source": [
    "list(map(lambda i:i*i,l))"
   ]
  },
  {
   "cell_type": "markdown",
   "id": "d15fa79f-066d-4c8a-b56b-af7a67035fef",
   "metadata": {},
   "source": [
    "*******************************"
   ]
  },
  {
   "cell_type": "markdown",
   "id": "a6b643a8-8b74-48e4-bab3-40ed80fe2fca",
   "metadata": {},
   "source": [
    "Q3. Write a python program to convert the given list of integers into a tuple of strings. Use map and\n",
    "lambda functions\n",
    "Given String: [1, 2, 3, 4, 5, 6, 7, 8, 9, 10]\n",
    "Expected output: ('1', '2', '3', '4', '5', '6', '7', '8', '9', '10')"
   ]
  },
  {
   "cell_type": "code",
   "execution_count": 44,
   "id": "ab6787f9-3bc1-44b1-bd7e-cd88960bd923",
   "metadata": {},
   "outputs": [],
   "source": [
    "l=[1, 2, 3, 4, 5, 6, 7, 8, 9, 10] "
   ]
  },
  {
   "cell_type": "code",
   "execution_count": 45,
   "id": "764ef564-0962-4ee2-8557-bb8505f874c7",
   "metadata": {},
   "outputs": [
    {
     "data": {
      "text/plain": [
       "('1', '2', '3', '4', '5', '6', '7', '8', '9', '10')"
      ]
     },
     "execution_count": 45,
     "metadata": {},
     "output_type": "execute_result"
    }
   ],
   "source": [
    "tuple(map(lambda i:str(i),l))"
   ]
  },
  {
   "cell_type": "markdown",
   "id": "605fcf50-7721-405f-a286-2836d9a5ea5a",
   "metadata": {},
   "source": [
    "***************************"
   ]
  },
  {
   "cell_type": "markdown",
   "id": "e04a885c-35aa-4345-8dd8-19aed0c63c13",
   "metadata": {},
   "source": [
    "Q4. Write a python program using reduce function to compute the product of a list containing numbers\n",
    "from 1 to 25."
   ]
  },
  {
   "cell_type": "code",
   "execution_count": 84,
   "id": "60ad21c1-b386-4f83-99ca-fe9e1b7485db",
   "metadata": {},
   "outputs": [],
   "source": [
    "from functools import reduce"
   ]
  },
  {
   "cell_type": "code",
   "execution_count": 87,
   "id": "f783f04b-57b9-41e9-a443-25bc56396f30",
   "metadata": {},
   "outputs": [],
   "source": [
    "l=[]\n",
    "n=25\n",
    "for i in range(n):\n",
    "    l.append(i+1)"
   ]
  },
  {
   "cell_type": "code",
   "execution_count": 89,
   "id": "51e70076-0665-44ce-8ff9-8e1ef9214c08",
   "metadata": {},
   "outputs": [
    {
     "data": {
      "text/plain": [
       "15511210043330985984000000"
      ]
     },
     "execution_count": 89,
     "metadata": {},
     "output_type": "execute_result"
    }
   ],
   "source": [
    "reduce(lambda x,y:x*y,l)"
   ]
  },
  {
   "cell_type": "markdown",
   "id": "ca38870f-ac7f-43ef-93a5-4daaa826eb4c",
   "metadata": {},
   "source": [
    "********************************"
   ]
  },
  {
   "cell_type": "markdown",
   "id": "39264c87-57a9-40d5-a429-db0dcdafb238",
   "metadata": {},
   "source": [
    "Q5. Write a python program to filter the numbers in a given list that are divisible by 2 and 3 using the\n",
    "filter function.\n",
    "[2, 3, 6, 9, 27, 60, 90, 120, 55, 46]"
   ]
  },
  {
   "cell_type": "code",
   "execution_count": 96,
   "id": "070c6631-cca6-4012-887d-a8986eeb2b92",
   "metadata": {},
   "outputs": [],
   "source": [
    "l=[2, 3, 6, 9, 27, 60, 90, 120, 55, 46]"
   ]
  },
  {
   "cell_type": "code",
   "execution_count": 99,
   "id": "a031749f-5f1d-41fe-821b-903407cb7064",
   "metadata": {},
   "outputs": [
    {
     "data": {
      "text/plain": [
       "[6, 60, 90, 120]"
      ]
     },
     "execution_count": 99,
     "metadata": {},
     "output_type": "execute_result"
    }
   ],
   "source": [
    "list(filter(lambda i:i%2==0 and i%3==0, l))"
   ]
  },
  {
   "cell_type": "markdown",
   "id": "a00b0246-679f-4998-ad6a-1ca1da2a5fb6",
   "metadata": {},
   "source": [
    "********************************"
   ]
  },
  {
   "cell_type": "markdown",
   "id": "95b0b0cb-7cde-4695-9e31-7a7e06b181b8",
   "metadata": {},
   "source": [
    "Q6. Write a python program to find palindromes in the given list of strings using lambda and filter\n",
    "function.\n",
    "['python', 'php', 'aba', 'radar', 'level']"
   ]
  },
  {
   "cell_type": "code",
   "execution_count": 19,
   "id": "101b891b-8e9e-4b3e-8f1b-4430053384ae",
   "metadata": {},
   "outputs": [],
   "source": [
    "l=['python', 'php', 'aba', 'radar', 'level']"
   ]
  },
  {
   "cell_type": "code",
   "execution_count": 32,
   "id": "f4b88bb5-f005-408f-bcce-e0ca3d1348a0",
   "metadata": {},
   "outputs": [
    {
     "data": {
      "text/plain": [
       "['php', 'aba', 'radar', 'level']"
      ]
     },
     "execution_count": 32,
     "metadata": {},
     "output_type": "execute_result"
    }
   ],
   "source": [
    "list(filter(lambda i:i==i[::-1], l))"
   ]
  },
  {
   "cell_type": "code",
   "execution_count": null,
   "id": "14c224fd-1c14-4ebb-8d93-4c933e7b25ce",
   "metadata": {},
   "outputs": [],
   "source": []
  },
  {
   "cell_type": "code",
   "execution_count": null,
   "id": "d1feb492-7413-4acd-8268-14d4cd8011fd",
   "metadata": {},
   "outputs": [],
   "source": []
  },
  {
   "cell_type": "code",
   "execution_count": null,
   "id": "f3c7cbde-38cb-4a6f-a526-803326ea721c",
   "metadata": {},
   "outputs": [],
   "source": []
  },
  {
   "cell_type": "code",
   "execution_count": null,
   "id": "61cd9633-1225-4da6-b9db-d6ed75479952",
   "metadata": {},
   "outputs": [],
   "source": []
  },
  {
   "cell_type": "code",
   "execution_count": null,
   "id": "7b17359b-7962-4495-aa37-98a73abab799",
   "metadata": {},
   "outputs": [],
   "source": []
  }
 ],
 "metadata": {
  "kernelspec": {
   "display_name": "Python 3 (ipykernel)",
   "language": "python",
   "name": "python3"
  },
  "language_info": {
   "codemirror_mode": {
    "name": "ipython",
    "version": 3
   },
   "file_extension": ".py",
   "mimetype": "text/x-python",
   "name": "python",
   "nbconvert_exporter": "python",
   "pygments_lexer": "ipython3",
   "version": "3.10.6"
  }
 },
 "nbformat": 4,
 "nbformat_minor": 5
}

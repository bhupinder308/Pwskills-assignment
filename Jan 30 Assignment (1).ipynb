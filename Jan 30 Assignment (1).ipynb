{
 "cells": [
  {
   "cell_type": "markdown",
   "id": "21a700fa-019a-467f-9121-dd8d69f335b2",
   "metadata": {},
   "source": [
    "Question 1- Write a program to accept percentage from the user and display the grade according to the following criteria:\n",
    "    \n",
    "    Marks  > 90    grade A\n",
    "    Marks  >80 and <=90  grade B\n",
    "     Marks  >= 60 and <=80  grade C\n",
    "    below 60 grade d"
   ]
  },
  {
   "cell_type": "code",
   "execution_count": 7,
   "id": "e7fb539a-6ed3-4af4-afcb-b61900dce67f",
   "metadata": {},
   "outputs": [
    {
     "name": "stdin",
     "output_type": "stream",
     "text": [
      " 75\n"
     ]
    },
    {
     "name": "stdout",
     "output_type": "stream",
     "text": [
      "Grade C\n"
     ]
    }
   ],
   "source": [
    "marks=int(input())\n",
    "if marks>90:\n",
    "    print(\"Grade A\")\n",
    "elif marks >80 and marks<=90:\n",
    "    print(\"Grade B\")\n",
    "elif marks >=60 and marks<=80:\n",
    "    print(\"Grade C\")\n",
    "else:\n",
    "    print(\"Grade D\")"
   ]
  },
  {
   "cell_type": "markdown",
   "id": "84f5807e-d00f-4657-b198-a806ee6e717b",
   "metadata": {},
   "source": [
    "**********************************"
   ]
  },
  {
   "cell_type": "markdown",
   "id": "6cdacfd6-43ca-4a45-9569-48fd8a1e7a5c",
   "metadata": {},
   "source": [
    "Question 2- Write a program to accept the cost price of a bike and display the road tax to be paid according to the following criteria:\n",
    "    \n",
    "    tax = 15% if cost prince >100000\n",
    "    tax= 10 % if cost price  >50000 and <= 100000\n",
    "    tax = 5 % if cost price <=50000"
   ]
  },
  {
   "cell_type": "code",
   "execution_count": 13,
   "id": "f68ab025-b9a6-4f89-90a3-37271c644412",
   "metadata": {},
   "outputs": [
    {
     "name": "stdin",
     "output_type": "stream",
     "text": [
      " 1000000\n"
     ]
    },
    {
     "name": "stdout",
     "output_type": "stream",
     "text": [
      "Tax= 150000.0\n"
     ]
    }
   ],
   "source": [
    "cost=int(input())\n",
    "if cost >100000:\n",
    "    a=(15*cost)/100\n",
    "    print(\"Tax=\",a)\n",
    "elif cost>50000 and cost <=100000:\n",
    "    b=(10*cost)/100\n",
    "    print(\"Tax=\",b)\n",
    "else:\n",
    "    c=(5*cost)/100\n",
    "    print(\"Tax=\",c)"
   ]
  },
  {
   "cell_type": "markdown",
   "id": "485bed82-6b61-4cd2-bfe6-285d072b9f64",
   "metadata": {},
   "source": [
    "***************************"
   ]
  },
  {
   "cell_type": "markdown",
   "id": "b8cfccbf-af14-46e4-8714-0492f4db03fe",
   "metadata": {},
   "source": [
    "Question 3- Accept any city from the user and display the monuments of the city.\n",
    "\n",
    "city            monument\n",
    "delhi           redfort//\n",
    "Agra            Tajmahal//\n",
    "Jaipur          Jal Mahal //"
   ]
  },
  {
   "cell_type": "code",
   "execution_count": 15,
   "id": "bf8f1e9e-6589-43cc-bf8e-790adffd9999",
   "metadata": {},
   "outputs": [
    {
     "name": "stdin",
     "output_type": "stream",
     "text": [
      " Jaipur\n"
     ]
    },
    {
     "name": "stdout",
     "output_type": "stream",
     "text": [
      "Jal Mahal\n"
     ]
    }
   ],
   "source": [
    "city=input()\n",
    "if city==\"Delhi\":\n",
    "    print(\"Red Fort\")\n",
    "elif city==\"Agra\":\n",
    "    print(\"Taj Mahal\")\n",
    "elif city==\"Jaipur\":\n",
    "    print(\"Jal Mahal\")"
   ]
  },
  {
   "cell_type": "markdown",
   "id": "df536433-b431-4ded-9888-7672f9673d23",
   "metadata": {},
   "source": [
    "**********************\n",
    "\n"
   ]
  },
  {
   "cell_type": "markdown",
   "id": "a9e3b0c6-7b05-45d4-9ecd-b8b53caf7575",
   "metadata": {},
   "source": [
    "Question 4- Check how many times a given number can be divided by 3 before it is less than or equal to 10."
   ]
  },
  {
   "cell_type": "code",
   "execution_count": 13,
   "id": "234b3d71-0032-4cae-90c3-4c707dc2d88a",
   "metadata": {},
   "outputs": [
    {
     "name": "stdin",
     "output_type": "stream",
     "text": [
      "Enter a number:  24\n"
     ]
    },
    {
     "name": "stdout",
     "output_type": "stream",
     "text": [
      "The number can be divided by 3, 1 times.\n"
     ]
    }
   ],
   "source": [
    "num = int(input(\"Enter a number: \"))\n",
    "count = 0\n",
    "while num > 10:\n",
    "    num = num / 3\n",
    "    count =count+1\n",
    "print(\"The number can be divided by 3,\", count, \"times.\")"
   ]
  },
  {
   "cell_type": "markdown",
   "id": "53b137cd-e73e-4db9-85a1-8560e4ebe865",
   "metadata": {},
   "source": [
    "*******************"
   ]
  },
  {
   "cell_type": "markdown",
   "id": "e4e1a276-a6d8-428b-ae7b-6a477b6df964",
   "metadata": {},
   "source": [
    "Question 5- When and why to use a while loop in python give a detailed description with example."
   ]
  },
  {
   "cell_type": "markdown",
   "id": "ca36cdb8-8b08-4199-b8e8-15135ddce972",
   "metadata": {},
   "source": [
    "Answer- A while loop is used to carry out an operation until the condition meets.\n",
    "Example- find the square of 1st 10 natural numbers.\n"
   ]
  },
  {
   "cell_type": "code",
   "execution_count": 1,
   "id": "d0159ea6-cf7c-4bb6-870a-83c28aad497b",
   "metadata": {},
   "outputs": [
    {
     "name": "stdout",
     "output_type": "stream",
     "text": [
      "1\n",
      "4\n",
      "9\n",
      "16\n",
      "25\n",
      "36\n",
      "49\n",
      "64\n",
      "81\n",
      "100\n"
     ]
    }
   ],
   "source": [
    "i=1\n",
    "\n",
    "count=1\n",
    "while i<=10:\n",
    "    \n",
    "    j=i*i\n",
    "    print(j)\n",
    "    i=i+count\n",
    "    \n",
    "    "
   ]
  },
  {
   "cell_type": "markdown",
   "id": "a9f8aabe-cb7a-49c2-988e-3cd2aec32716",
   "metadata": {},
   "source": [
    "***************"
   ]
  },
  {
   "cell_type": "markdown",
   "id": "e65991bd-4716-4494-b2d6-d814b7d27e70",
   "metadata": {},
   "source": [
    "Question 7 and 8-  Reverse a loop to display numbers from 10 to 1"
   ]
  },
  {
   "cell_type": "code",
   "execution_count": 11,
   "id": "3e1d9b8f-7ea2-4da6-b92e-d56fe25e453b",
   "metadata": {},
   "outputs": [
    {
     "name": "stdout",
     "output_type": "stream",
     "text": [
      "10\n",
      "9\n",
      "8\n",
      "7\n",
      "6\n",
      "5\n",
      "4\n",
      "3\n",
      "2\n",
      "1\n"
     ]
    }
   ],
   "source": [
    "n=10\n",
    "while  n>0:\n",
    "    print(n)\n",
    "    n=n-1\n"
   ]
  },
  {
   "cell_type": "code",
   "execution_count": null,
   "id": "caf6ba70-fb09-47d7-9e5f-301a54d828b9",
   "metadata": {},
   "outputs": [],
   "source": []
  }
 ],
 "metadata": {
  "kernelspec": {
   "display_name": "Python 3 (ipykernel)",
   "language": "python",
   "name": "python3"
  },
  "language_info": {
   "codemirror_mode": {
    "name": "ipython",
    "version": 3
   },
   "file_extension": ".py",
   "mimetype": "text/x-python",
   "name": "python",
   "nbconvert_exporter": "python",
   "pygments_lexer": "ipython3",
   "version": "3.10.6"
  }
 },
 "nbformat": 4,
 "nbformat_minor": 5
}

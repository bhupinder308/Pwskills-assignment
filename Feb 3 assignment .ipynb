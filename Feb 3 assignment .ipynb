{
 "cells": [
  {
   "cell_type": "markdown",
   "id": "c66a985a-4e71-444e-b0de-79abf9565869",
   "metadata": {},
   "source": [
    "Q1. Which keyword is used to create a function? Create a function to return a list of odd numbers in the\n",
    "range of 1 to 25."
   ]
  },
  {
   "cell_type": "markdown",
   "id": "ebb61de6-0117-4ab0-b0b4-beafcda94dd2",
   "metadata": {},
   "source": [
    "Answer- Keyword def is used to create a function.\n",
    "syntax - def function_name(arguments):"
   ]
  },
  {
   "cell_type": "code",
   "execution_count": 80,
   "id": "71b21e65-96f9-4b15-ad65-6600c94252dc",
   "metadata": {},
   "outputs": [],
   "source": [
    "# code for function to txtract all the odd numbers with in a range of 1-25\n",
    "\n",
    "def test1():\n",
    "    n = 25\n",
    "    ip=1\n",
    "    l=[]\n",
    "    counter=0\n",
    "    while counter<25:\n",
    "            counter=counter+ip\n",
    "            if counter %2!=0:\n",
    "                l.append(counter)\n",
    "            counter=counter+1\n",
    "    return l\n",
    "            \n",
    "\n",
    "\n",
    "    "
   ]
  },
  {
   "cell_type": "code",
   "execution_count": 81,
   "id": "2f75afc0-7097-4db1-b1cc-0c0c6a2a6b33",
   "metadata": {},
   "outputs": [
    {
     "data": {
      "text/plain": [
       "[1, 3, 5, 7, 9, 11, 13, 15, 17, 19, 21, 23, 25]"
      ]
     },
     "execution_count": 81,
     "metadata": {},
     "output_type": "execute_result"
    }
   ],
   "source": [
    "test1()"
   ]
  },
  {
   "cell_type": "markdown",
   "id": "7a4dd2a6-dfe5-401d-8001-396c2aedc37b",
   "metadata": {},
   "source": [
    "**********************"
   ]
  },
  {
   "cell_type": "markdown",
   "id": "82c2c742-0180-410e-a076-cb27813b9eff",
   "metadata": {},
   "source": [
    "Q2. Why *args and **kwargs is used in some functions? Create a function each for *args and **kwargs\n",
    "to demonstrate their use."
   ]
  },
  {
   "cell_type": "markdown",
   "id": "3e6a5433-100d-40f1-b0d9-913d201d339c",
   "metadata": {},
   "source": [
    "Answer- *args Function argument is used to pass the arguent in form of tuple however, the  **kwargs function argument is used to pass the data in form of a dictionary."
   ]
  },
  {
   "cell_type": "code",
   "execution_count": 87,
   "id": "75975db5-5aaf-4845-b7d6-7535c36b55ba",
   "metadata": {},
   "outputs": [],
   "source": [
    "def test2(*bhupinder):\n",
    "    return bhupinder"
   ]
  },
  {
   "cell_type": "code",
   "execution_count": 2,
   "id": "537abd9e-9509-419a-bbc7-df28410919b2",
   "metadata": {},
   "outputs": [
    {
     "data": {
      "text/plain": [
       "tuple"
      ]
     },
     "execution_count": 2,
     "metadata": {},
     "output_type": "execute_result"
    }
   ],
   "source": [
    "type(test2())  \n",
    "# It will show that the type of return of the  test function is tuple"
   ]
  },
  {
   "cell_type": "code",
   "execution_count": 97,
   "id": "096c0838-763b-480f-9fe9-18e1487bb61f",
   "metadata": {},
   "outputs": [
    {
     "data": {
      "text/plain": [
       "(2, 1)"
      ]
     },
     "execution_count": 97,
     "metadata": {},
     "output_type": "execute_result"
    }
   ],
   "source": [
    "test2(2,1)"
   ]
  },
  {
   "cell_type": "code",
   "execution_count": 86,
   "id": "03faf44c-8cf6-4597-a9a5-fcbab72292e4",
   "metadata": {},
   "outputs": [],
   "source": [
    "def test3(**bhupinder):\n",
    "    return bhupinder"
   ]
  },
  {
   "cell_type": "code",
   "execution_count": 85,
   "id": "df63517f-33a6-4422-9c19-77a14591df01",
   "metadata": {},
   "outputs": [
    {
     "data": {
      "text/plain": [
       "{'a': 1, 'b': 2}"
      ]
     },
     "execution_count": 85,
     "metadata": {},
     "output_type": "execute_result"
    }
   ],
   "source": [
    "test3(a=1,b=2)\n",
    "# gives the values in form of dictionary"
   ]
  },
  {
   "cell_type": "code",
   "execution_count": 10,
   "id": "80e3df59-fe74-4ecf-85d5-d35d0f2a266e",
   "metadata": {},
   "outputs": [
    {
     "data": {
      "text/plain": [
       "dict"
      ]
     },
     "execution_count": 10,
     "metadata": {},
     "output_type": "execute_result"
    }
   ],
   "source": [
    "type(test3())\n",
    "# It will show that the type of return of the  test function is dictionary"
   ]
  },
  {
   "cell_type": "markdown",
   "id": "fa1c0890-ba37-4525-a5bb-55e192db4452",
   "metadata": {},
   "source": [
    "***************"
   ]
  },
  {
   "cell_type": "markdown",
   "id": "f51bdc6e-0c2b-4c0f-af36-50b017d3ee82",
   "metadata": {},
   "source": [
    "Q3. What is an iterator in python? Name the method used to initialise the iterator object and the method\n",
    "used for iteration. Use these methods to print the first five elements of the given list [2, 4, 6, 8, 10, 12, 14,\n",
    "16, 18, 20]."
   ]
  },
  {
   "cell_type": "markdown",
   "id": "52a395ad-6da2-41a4-9170-6301fc89a227",
   "metadata": {},
   "source": [
    "Answer-Iterator is an object in which we can go next to get the data. iterator obect first needs data to be iterate by syntax iter() and then by using the next command we can data.  next()\n",
    "So, first primary iterable data needs to be passed by iter() and then to fetch the next data we use next()"
   ]
  },
  {
   "cell_type": "code",
   "execution_count": 106,
   "id": "0086546e-d8a5-4139-bff8-2b5f412636f4",
   "metadata": {},
   "outputs": [
    {
     "name": "stdout",
     "output_type": "stream",
     "text": [
      "2\n",
      "4\n",
      "6\n",
      "8\n",
      "10\n"
     ]
    }
   ],
   "source": [
    "l=[2, 4, 6, 8, 10, 12, 14, 16, 18, 20]\n",
    "l2=iter(l)\n",
    "for i in range (5):\n",
    "    print(next(l2))"
   ]
  },
  {
   "cell_type": "markdown",
   "id": "2aa711ca-55b0-4559-b4e0-c7758f8903ec",
   "metadata": {},
   "source": [
    "******************************************"
   ]
  },
  {
   "cell_type": "markdown",
   "id": "fc9aa6d2-90ba-4b7c-93db-c94ed0254374",
   "metadata": {},
   "source": [
    "Q4. What is a generator function in python? Why yield keyword is used? Give an example of a generator\n",
    "function."
   ]
  },
  {
   "cell_type": "markdown",
   "id": "4fa37cef-e734-4faf-a5e6-6c6785b11996",
   "metadata": {},
   "source": [
    "Answer- Generator functions allows you to generate the output without holding everything in to the memory.\n",
    "It makes the execution python code fast.\n",
    "\n"
   ]
  },
  {
   "cell_type": "code",
   "execution_count": 5,
   "id": "2e954e11-9121-415d-98ce-44b008ea6ab7",
   "metadata": {},
   "outputs": [],
   "source": [
    "# Example of generator function to find the even numbers out of a range.\n",
    "\n",
    "\n",
    "def test1(n):\n",
    "    for i in range(n):\n",
    "        if i%2==0:\n",
    "            yield(i)\n",
    "    \n"
   ]
  },
  {
   "cell_type": "code",
   "execution_count": 6,
   "id": "7efbe6d6-e680-46d3-89ef-ce19606b9ebe",
   "metadata": {},
   "outputs": [
    {
     "name": "stdout",
     "output_type": "stream",
     "text": [
      "0\n",
      "2\n",
      "4\n",
      "6\n",
      "8\n"
     ]
    }
   ],
   "source": [
    "# output command \n",
    "for i in test1(10):\n",
    "    print(i)"
   ]
  },
  {
   "cell_type": "markdown",
   "id": "db83b85b-f472-4a9b-84b8-679ebff14423",
   "metadata": {},
   "source": [
    "*********"
   ]
  },
  {
   "cell_type": "markdown",
   "id": "d3164054-b989-4f8f-af39-a487b53abca9",
   "metadata": {},
   "source": [
    "Q6. Write a python program to print the first 10 Fibonacci numbers using a while loop."
   ]
  },
  {
   "cell_type": "markdown",
   "id": "b0bd54bf-411b-419d-86ab-6762d7104a1f",
   "metadata": {},
   "source": [
    "Answer-"
   ]
  },
  {
   "cell_type": "code",
   "execution_count": 102,
   "id": "2a6f352f-e8c7-4d28-ba84-e7a26f41a0a0",
   "metadata": {},
   "outputs": [],
   "source": [
    "def fib():\n",
    "    \n",
    "    a=0\n",
    "    m=1\n",
    "    b=1\n",
    "    \n",
    "    while m<=10:\n",
    "        yield a\n",
    "        c=a+b\n",
    "        a=b\n",
    "        b=c\n",
    "        m=m+1\n",
    "        \n",
    "    \n",
    "            "
   ]
  },
  {
   "cell_type": "code",
   "execution_count": 103,
   "id": "2b3820f7-5349-42f2-b4ce-94d3aa245401",
   "metadata": {},
   "outputs": [
    {
     "name": "stdout",
     "output_type": "stream",
     "text": [
      "0\n",
      "1\n",
      "1\n",
      "2\n",
      "3\n",
      "5\n",
      "8\n",
      "13\n",
      "21\n",
      "34\n"
     ]
    }
   ],
   "source": [
    "for i in fib():\n",
    "    print(i)"
   ]
  },
  {
   "cell_type": "markdown",
   "id": "2f8a2988-27e6-4da8-9452-fc945d323c75",
   "metadata": {},
   "source": [
    "****************"
   ]
  },
  {
   "cell_type": "markdown",
   "id": "3bc949a4-eb14-4868-8615-3d291595b1d3",
   "metadata": {},
   "source": [
    "Q7. Write a List Comprehension to iterate through the given string: ‘pwskills’.\n",
    "Expected output: ['p', 'w', 's', 'k', 'i', 'l', 'l', 's']"
   ]
  },
  {
   "cell_type": "code",
   "execution_count": null,
   "id": "28c31527-5a93-42ee-87b1-1b7ae341ae88",
   "metadata": {},
   "outputs": [],
   "source": [
    "s=\"pwskills\""
   ]
  },
  {
   "cell_type": "code",
   "execution_count": null,
   "id": "f79e01c4-0551-4c3e-8f6c-211e9d80aea4",
   "metadata": {},
   "outputs": [],
   "source": [
    "s"
   ]
  },
  {
   "cell_type": "code",
   "execution_count": 13,
   "id": "6d7e8ac9-75ff-41a3-8c68-05e5986543a5",
   "metadata": {},
   "outputs": [
    {
     "data": {
      "text/plain": [
       "['p', 'w', 's', 'k', 'i', 'l', 'l', 's']"
      ]
     },
     "execution_count": 13,
     "metadata": {},
     "output_type": "execute_result"
    }
   ],
   "source": [
    "[i for i in s]"
   ]
  },
  {
   "cell_type": "markdown",
   "id": "8c07cca5-58b2-4512-bf04-da86e79a59d2",
   "metadata": {},
   "source": [
    "***************"
   ]
  },
  {
   "cell_type": "markdown",
   "id": "f60f9c23-7cb4-498a-8b40-132c768d54e2",
   "metadata": {},
   "source": [
    "Q8. Write a python program to check whether a given number is Palindrome or not using a while loop."
   ]
  },
  {
   "cell_type": "code",
   "execution_count": 105,
   "id": "bee2d234-fdc0-45c1-be2f-944a12986f12",
   "metadata": {},
   "outputs": [
    {
     "name": "stdin",
     "output_type": "stream",
     "text": [
      "Enter The String vivo\n"
     ]
    },
    {
     "name": "stdout",
     "output_type": "stream",
     "text": [
      "Not a palindrome\n"
     ]
    }
   ],
   "source": [
    "s=input(\"Enter The String\")\n",
    "l1=[]\n",
    "l2=[]\n",
    "l1.extend(s)\n",
    "i=1\n",
    "j=0\n",
    "while i <= len(l1):\n",
    "    l2.append(l1[len(l1)-j-1])\n",
    "    i=i+1\n",
    "    j=j+1\n",
    "if l1==l2:\n",
    "    print(\"This is a palindrome\")\n",
    "else:\n",
    "    print(\"Not a palindrome\")\n",
    "    \n",
    "    \n",
    "    \n",
    "    "
   ]
  },
  {
   "cell_type": "markdown",
   "id": "39b944bc-f102-4f8b-ba41-3870b7da4984",
   "metadata": {},
   "source": [
    "************************"
   ]
  },
  {
   "cell_type": "markdown",
   "id": "a6c60806-d32c-4484-8faf-75069e026358",
   "metadata": {},
   "source": [
    "Q9. Write a code to print odd numbers from 1 to 100 using list comprehension."
   ]
  },
  {
   "cell_type": "code",
   "execution_count": 1,
   "id": "bdfa22dd-5056-474c-b42d-fb11aa7b0186",
   "metadata": {},
   "outputs": [
    {
     "name": "stdin",
     "output_type": "stream",
     "text": [
      "lower range 1\n",
      "higher range 100\n"
     ]
    },
    {
     "data": {
      "text/plain": [
       "[1,\n",
       " 3,\n",
       " 5,\n",
       " 7,\n",
       " 9,\n",
       " 11,\n",
       " 13,\n",
       " 15,\n",
       " 17,\n",
       " 19,\n",
       " 21,\n",
       " 23,\n",
       " 25,\n",
       " 27,\n",
       " 29,\n",
       " 31,\n",
       " 33,\n",
       " 35,\n",
       " 37,\n",
       " 39,\n",
       " 41,\n",
       " 43,\n",
       " 45,\n",
       " 47,\n",
       " 49,\n",
       " 51,\n",
       " 53,\n",
       " 55,\n",
       " 57,\n",
       " 59,\n",
       " 61,\n",
       " 63,\n",
       " 65,\n",
       " 67,\n",
       " 69,\n",
       " 71,\n",
       " 73,\n",
       " 75,\n",
       " 77,\n",
       " 79,\n",
       " 81,\n",
       " 83,\n",
       " 85,\n",
       " 87,\n",
       " 89,\n",
       " 91,\n",
       " 93,\n",
       " 95,\n",
       " 97,\n",
       " 99]"
      ]
     },
     "execution_count": 1,
     "metadata": {},
     "output_type": "execute_result"
    }
   ],
   "source": [
    "# The code is design in such a way that we can find the list in any range\n",
    "# for lower range please enter 1 and for higher range please enter 100 to find all the odd numbers in that range\n",
    "\n",
    "a=int(input(\"lower range\"))\n",
    "b=int(input(\"higher range\"))\n",
    "[i for i in range(a,b) if i%2!=0]\n",
    "    "
   ]
  },
  {
   "cell_type": "code",
   "execution_count": null,
   "id": "d4d48d62-748c-44ba-87d7-b7ba3a5e180f",
   "metadata": {},
   "outputs": [],
   "source": []
  },
  {
   "cell_type": "code",
   "execution_count": null,
   "id": "9645c61f-997c-48ce-80d8-4f57a9ade9f1",
   "metadata": {},
   "outputs": [],
   "source": []
  }
 ],
 "metadata": {
  "kernelspec": {
   "display_name": "Python 3 (ipykernel)",
   "language": "python",
   "name": "python3"
  },
  "language_info": {
   "codemirror_mode": {
    "name": "ipython",
    "version": 3
   },
   "file_extension": ".py",
   "mimetype": "text/x-python",
   "name": "python",
   "nbconvert_exporter": "python",
   "pygments_lexer": "ipython3",
   "version": "3.10.6"
  }
 },
 "nbformat": 4,
 "nbformat_minor": 5
}

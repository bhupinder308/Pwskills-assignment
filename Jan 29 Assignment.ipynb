{
 "cells": [
  {
   "cell_type": "markdown",
   "id": "d250db93-a0cb-4570-b453-3a171c2a0ba4",
   "metadata": {},
   "source": [
    "Question 1- Who developed Python programming language?\n",
    "\n",
    "\n",
    "Answer- Guido van Rossum developed Python "
   ]
  },
  {
   "cell_type": "markdown",
   "id": "16084250-9f7b-4b46-989e-58e863bc234d",
   "metadata": {},
   "source": [
    "**************"
   ]
  },
  {
   "cell_type": "markdown",
   "id": "e6a73909-6572-46c5-b812-5f27ad4d14d4",
   "metadata": {},
   "source": [
    "Question 2- Which type of programming does python support?\n",
    "\n",
    "Answer- Python is a multi-paradigm programming language. "
   ]
  },
  {
   "cell_type": "markdown",
   "id": "35ae0710-67b1-4f4d-85b9-ca3224659376",
   "metadata": {},
   "source": [
    "*********************"
   ]
  },
  {
   "cell_type": "markdown",
   "id": "f7b1a679-3a7a-45c6-ac82-3bad374095ad",
   "metadata": {},
   "source": [
    "Question 3- Is python case sensitive when dealing with identifirs?\n",
    "\n",
    "Answer- Yes, python is case sensitive"
   ]
  },
  {
   "cell_type": "markdown",
   "id": "788a4e44-7918-4ae3-8221-523cfbc80932",
   "metadata": {},
   "source": [
    "********************"
   ]
  },
  {
   "cell_type": "markdown",
   "id": "94b403e1-8f68-4222-9287-4571d777b6fc",
   "metadata": {},
   "source": [
    "Question 4- What is the correct extension of the python file?\n",
    "\n",
    "Answer- The extension of a python file is   .ipynb"
   ]
  },
  {
   "cell_type": "markdown",
   "id": "effdc57b-70c5-4fb9-860d-3893f0eed6e8",
   "metadata": {},
   "source": [
    "**************"
   ]
  },
  {
   "cell_type": "markdown",
   "id": "fc7c0b98-c028-4e1b-85ea-a47de62fc32e",
   "metadata": {},
   "source": [
    "Question 5- Is python code compiled or interpreted?\n",
    "\n",
    "Answer- Python code is Interpreted.\n",
    "\n",
    "\n",
    "*****************"
   ]
  },
  {
   "cell_type": "markdown",
   "id": "bcb728cb-793b-40b0-bc00-db33f76405b5",
   "metadata": {},
   "source": [
    "Question 7- state a character used to give a single line  comment in python?\n",
    "\n",
    "Answer- Hash character is used to give single line comment.\n",
    "********************"
   ]
  },
  {
   "cell_type": "markdown",
   "id": "19ac4c30-640a-4ba3-bb37-b9396ab383fa",
   "metadata": {},
   "source": [
    "Question 8- Mention functions which can help us to find the version of python that we are currently working on?\n",
    "\n",
    " Answer- command which is used to check the python version  \n",
    "    \n",
    "    print(sys.version)\n",
    "    \n",
    "    ****************"
   ]
  },
  {
   "cell_type": "markdown",
   "id": "45ce6e04-7ee4-421f-94f7-9e90de737c41",
   "metadata": {},
   "source": [
    "Question 9- Python supports the creation of anonymous functions at runtime, using a constuct called  ____?\n",
    "\n",
    "Answer-  lambda\n",
    "\n",
    "********************"
   ]
  },
  {
   "cell_type": "markdown",
   "id": "bfd54d44-f9bd-42c2-8073-dad8bfeb8aca",
   "metadata": {},
   "source": [
    "Question 10- What does pip stands for python?\n",
    "\n",
    "Answer- pip stands for  “Preferred Installer Program” or PIP Installs Packages. \n",
    "*******************"
   ]
  },
  {
   "cell_type": "markdown",
   "id": "2139c993-88d2-4650-b716-86ce4a008a53",
   "metadata": {},
   "source": [
    "Question 11- Mention  a few built in functions in python?\n",
    "\n",
    "Answer- few built in functions are int() , list(), str(), print()\n",
    "\n",
    "*****************"
   ]
  },
  {
   "cell_type": "markdown",
   "id": "49957074-8830-4e8d-ae24-8f9a6666046a",
   "metadata": {},
   "source": [
    "Question 12- what is the maximum possible length of an identifier in python ?\n",
    "\n",
    "Answer- Answer: An identifier can have a maximum length of 79 characters.\n",
    "\n",
    "****************\n"
   ]
  },
  {
   "cell_type": "markdown",
   "id": "b31402fc-16c5-4abf-a6e8-9f89200a55e7",
   "metadata": {},
   "source": [
    "Question 13- What are the benefits of using python?\n",
    "\n",
    "Answer- Python is powerful, flexible and easy to use language which has rich library.\n",
    "\n",
    "*******************"
   ]
  },
  {
   "cell_type": "code",
   "execution_count": null,
   "id": "d4424c41-c13f-4fd0-ae93-40e1c04519aa",
   "metadata": {},
   "outputs": [],
   "source": [
    "Question 14- "
   ]
  }
 ],
 "metadata": {
  "kernelspec": {
   "display_name": "Python 3 (ipykernel)",
   "language": "python",
   "name": "python3"
  },
  "language_info": {
   "codemirror_mode": {
    "name": "ipython",
    "version": 3
   },
   "file_extension": ".py",
   "mimetype": "text/x-python",
   "name": "python",
   "nbconvert_exporter": "python",
   "pygments_lexer": "ipython3",
   "version": "3.10.6"
  }
 },
 "nbformat": 4,
 "nbformat_minor": 5
}

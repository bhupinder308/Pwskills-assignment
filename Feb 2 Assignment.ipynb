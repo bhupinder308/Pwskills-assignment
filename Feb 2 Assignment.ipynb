{
 "cells": [
  {
   "cell_type": "markdown",
   "id": "a6c41efd-fa83-4c39-9898-d61756a2d44d",
   "metadata": {},
   "source": [
    "Q1. Explain with an example each when to use a for loop and a while loop."
   ]
  },
  {
   "cell_type": "markdown",
   "id": "00c8fac5-78e9-45a8-b768-83508bdd1504",
   "metadata": {},
   "source": [
    "Answer 1>  We use for loop when we have to execute an operation for fixed number of times. While loop is used to execute the operation until the described limit is reached or the condition is met."
   ]
  },
  {
   "cell_type": "markdown",
   "id": "117d80ac-1532-47ad-aabb-422e68095aba",
   "metadata": {},
   "source": [
    "\"\"\"Example of for loop- print all the numbers present in the list\"\"\""
   ]
  },
  {
   "cell_type": "code",
   "execution_count": 1,
   "id": "5de2e0c2-1308-4be7-be64-a7df5f70e0b1",
   "metadata": {},
   "outputs": [],
   "source": [
    "l=[1,2,3,4,5]\n"
   ]
  },
  {
   "cell_type": "code",
   "execution_count": 2,
   "id": "8cc9bee3-dcb7-4b34-85f4-f2574dd1feb9",
   "metadata": {},
   "outputs": [
    {
     "name": "stdout",
     "output_type": "stream",
     "text": [
      "1\n",
      "2\n",
      "3\n",
      "4\n",
      "5\n"
     ]
    }
   ],
   "source": [
    "# Example of for loop- print all the numbers present in the list\n",
    "for i in l:\n",
    "    print(i)"
   ]
  },
  {
   "cell_type": "markdown",
   "id": "e99b5b74-a03d-4fea-adde-dce1f6250b77",
   "metadata": {},
   "source": [
    "Example of while loop to get first 10 natural numbers."
   ]
  },
  {
   "cell_type": "code",
   "execution_count": 25,
   "id": "2cd39196-4a4b-4121-b289-20bded0fe6d2",
   "metadata": {},
   "outputs": [
    {
     "name": "stdout",
     "output_type": "stream",
     "text": [
      "1\n",
      "2\n",
      "3\n",
      "4\n",
      "5\n",
      "6\n",
      "7\n",
      "8\n",
      "9\n",
      "10\n"
     ]
    }
   ],
   "source": [
    "# Example of while loop to get first 10 natural numbers.\n",
    "result=1\n",
    "start_point=0\n",
    "while start_point<=9:\n",
    "    result= result + start_point\n",
    "    start_point= start_point+1\n",
    "    print(start_point)\n",
    "\n",
    "    "
   ]
  },
  {
   "cell_type": "markdown",
   "id": "471d9685-aad0-47f6-a9e1-72d026a1267f",
   "metadata": {},
   "source": [
    "********************************"
   ]
  },
  {
   "cell_type": "markdown",
   "id": "91f7c005-2337-4739-af5d-601d67f1d046",
   "metadata": {},
   "source": [
    "Q2. Write a python program to print the sum and product of the first 10 natural numbers using for\n",
    "and while loop."
   ]
  },
  {
   "cell_type": "code",
   "execution_count": 61,
   "id": "064b7041-50e6-4128-a17f-f451dcfff28a",
   "metadata": {},
   "outputs": [
    {
     "name": "stdout",
     "output_type": "stream",
     "text": [
      "55\n"
     ]
    }
   ],
   "source": [
    "# Sum of first 10 natural numbers using for loop \n",
    "\n",
    "n=10\n",
    "l=[]\n",
    "\n",
    "for i in list(range(n)):\n",
    "              l.append(i)\n",
    "start_point=1\n",
    "result=0\n",
    "for i in l:\n",
    "    result=result+start_point\n",
    "    start_point=start_point+1\n",
    "print(result)\n",
    "       "
   ]
  },
  {
   "cell_type": "code",
   "execution_count": 3,
   "id": "0bc006f8-ad17-4eba-95c8-d69de7b58d91",
   "metadata": {},
   "outputs": [
    {
     "name": "stdout",
     "output_type": "stream",
     "text": [
      "3628800\n"
     ]
    }
   ],
   "source": [
    "# Product of first 10 natural numbers using for loop\n",
    "\n",
    "n=10\n",
    "l=[]\n",
    "\n",
    "for i in list(range(n)):\n",
    "              l.append(i)\n",
    "start_point=1\n",
    "result=1\n",
    "for i in l:\n",
    "    result= result*start_point\n",
    "    start_point=start_point+1\n",
    "print(result)"
   ]
  },
  {
   "cell_type": "code",
   "execution_count": 2,
   "id": "8eef2bee-042d-4716-a5ca-81fc997b7781",
   "metadata": {},
   "outputs": [
    {
     "name": "stdout",
     "output_type": "stream",
     "text": [
      "55\n"
     ]
    }
   ],
   "source": [
    "# Sum of  first 10 natural numbers using while loop\n",
    "\n",
    "n=10\n",
    "start_point=1\n",
    "result=0\n",
    "while start_point<=10:\n",
    "    result=result+start_point\n",
    "    start_point=start_point+1\n",
    "print(result)"
   ]
  },
  {
   "cell_type": "code",
   "execution_count": 1,
   "id": "0e1a8396-323a-4fbc-bedd-5380d4460d9d",
   "metadata": {},
   "outputs": [
    {
     "name": "stdout",
     "output_type": "stream",
     "text": [
      "3628800\n"
     ]
    }
   ],
   "source": [
    "# Product of first 10 natural numbers using While loop\n",
    "\n",
    "n=10\n",
    "start_point=1\n",
    "result=1\n",
    "while start_point<=10:\n",
    "    result=result*start_point\n",
    "    start_point=start_point+1\n",
    "print(result)"
   ]
  },
  {
   "cell_type": "markdown",
   "id": "eb51df15-e5df-4415-b9b9-ea2ff731c11b",
   "metadata": {},
   "source": [
    "**************"
   ]
  },
  {
   "cell_type": "markdown",
   "id": "5ce374d9-38ef-4d0e-aad3-d049012ed7a8",
   "metadata": {},
   "source": [
    "Q3. Create a python program to compute the electricity bill for a household.\n",
    "\n",
    "The per-unit charges in rupees are as follows: For the first 100 units, the user will be charged Rs. 4.5 per\n",
    "unit, for the next 100 units, the user will be charged Rs. 6 per unit, and for the next 100 units, the user will\n",
    "be charged Rs. 10 per unit, After 300 units and above the user will be charged Rs. 20 per unit.\n",
    "You are required to take the units of electricity consumed in a month from the user as input.\n",
    "Your program must pass this test case: when the unit of electricity consumed by the user in a month is\n",
    "310, the total electricity bill should be 2250."
   ]
  },
  {
   "cell_type": "code",
   "execution_count": 2,
   "id": "f01a0e30-0861-4b58-8910-568182f4e5c2",
   "metadata": {},
   "outputs": [
    {
     "name": "stdin",
     "output_type": "stream",
     "text": [
      "Units Consumed= 310\n"
     ]
    },
    {
     "name": "stdout",
     "output_type": "stream",
     "text": [
      "Total Bill 2250.0\n"
     ]
    }
   ],
   "source": [
    "uc=int(input(\"Units Consumed=\"))\n",
    "\n",
    "if uc<=100:\n",
    "    a=uc*4.5\n",
    "    print(\"Total Bill\", a)\n",
    "\n",
    "elif uc>100 and uc<=200:\n",
    "    b=100*4.5 + (uc-100)*6\n",
    "    print(\"Total Bill\", b)\n",
    "\n",
    "elif uc>200 and uc<=300:\n",
    "    c=100*4.5 + 100*6 +(uc-200)*10\n",
    "    print(\"Total Bill\", c)\n",
    "\n",
    "else:\n",
    "    d=100*4.5 + 100*6 + 100*10 +(uc-300)*20\n",
    "    print(\"Total Bill\", d)\n"
   ]
  },
  {
   "cell_type": "markdown",
   "id": "57e193f5-7598-489f-8482-cd3e12a036d4",
   "metadata": {},
   "source": [
    "**************************************"
   ]
  },
  {
   "cell_type": "markdown",
   "id": "056ec6a7-948a-46f4-8e33-08d326964ff5",
   "metadata": {},
   "source": [
    "Q4. Create a list of numbers from 1 to 100. Use for loop and while loop to calculate the cube of each\n",
    "number and if the cube of that number is divisible by 4 or 5 then append that number in a list and print\n",
    "that list."
   ]
  },
  {
   "cell_type": "code",
   "execution_count": 28,
   "id": "7eccd469-7e44-4a07-ad87-4586eeab2ccd",
   "metadata": {},
   "outputs": [],
   "source": [
    " # First we will create a list of numbers between 1-100 and store the list in l\n",
    "    \n",
    "n=100\n",
    "l=[]\n",
    "for i in range(n):\n",
    "    l.append(i+1)\n",
    "    \n",
    "    # l is the list which includes the numbers between 1-100"
   ]
  },
  {
   "cell_type": "code",
   "execution_count": 35,
   "id": "99f53123-4efd-4a59-97fe-6dce2125bdfc",
   "metadata": {},
   "outputs": [
    {
     "name": "stdout",
     "output_type": "stream",
     "text": [
      "8\n",
      "64\n",
      "125\n",
      "216\n",
      "512\n",
      "1000\n",
      "1728\n",
      "2744\n",
      "3375\n",
      "4096\n",
      "5832\n",
      "8000\n",
      "10648\n",
      "13824\n",
      "15625\n",
      "17576\n",
      "21952\n",
      "27000\n",
      "32768\n",
      "39304\n",
      "42875\n",
      "46656\n",
      "54872\n",
      "64000\n",
      "74088\n",
      "85184\n",
      "91125\n",
      "97336\n",
      "110592\n",
      "125000\n",
      "140608\n",
      "157464\n",
      "166375\n",
      "175616\n",
      "195112\n",
      "216000\n",
      "238328\n",
      "262144\n",
      "274625\n",
      "287496\n",
      "314432\n",
      "343000\n",
      "373248\n",
      "405224\n",
      "421875\n",
      "438976\n",
      "474552\n",
      "512000\n",
      "551368\n",
      "592704\n",
      "614125\n",
      "636056\n",
      "681472\n",
      "729000\n",
      "778688\n",
      "830584\n",
      "857375\n",
      "884736\n",
      "941192\n",
      "1000000\n"
     ]
    }
   ],
   "source": [
    "# For loop to find cube of numbers and storing them in l2  and  the cubes which are divisible by 4 or 5 are stored in l3\n",
    "# process carried out by using For loop using if condition\n",
    "\n",
    "l2=[]\n",
    "for i in l:\n",
    "    l2.append(i*i*i)\n",
    "    \n",
    "\n",
    "l3=[]\n",
    "for j in l2:\n",
    "    if j%4==0 or j%5==0:\n",
    "        l3.append(j)\n",
    "        print(j)"
   ]
  },
  {
   "cell_type": "code",
   "execution_count": 36,
   "id": "74ace5e8-d8cf-4032-a453-a7f6c664905e",
   "metadata": {},
   "outputs": [
    {
     "name": "stdout",
     "output_type": "stream",
     "text": [
      "8\n",
      "64\n",
      "125\n",
      "216\n",
      "512\n",
      "1000\n",
      "1728\n",
      "2744\n",
      "3375\n",
      "4096\n",
      "5832\n",
      "8000\n",
      "10648\n",
      "13824\n",
      "15625\n",
      "17576\n",
      "21952\n",
      "27000\n",
      "32768\n",
      "39304\n",
      "42875\n",
      "46656\n",
      "54872\n",
      "64000\n",
      "74088\n",
      "85184\n",
      "91125\n",
      "97336\n",
      "110592\n",
      "125000\n",
      "140608\n",
      "157464\n",
      "166375\n",
      "175616\n",
      "195112\n",
      "216000\n",
      "238328\n",
      "262144\n",
      "274625\n",
      "287496\n",
      "314432\n",
      "343000\n",
      "373248\n",
      "405224\n",
      "421875\n",
      "438976\n",
      "474552\n",
      "512000\n",
      "551368\n",
      "592704\n",
      "614125\n",
      "636056\n",
      "681472\n",
      "729000\n",
      "778688\n",
      "830584\n",
      "857375\n",
      "884736\n",
      "941192\n",
      "1000000\n"
     ]
    }
   ],
   "source": [
    "# l5 is used to store the cubes of numbers between 1-100 and l7 includes the cubes which are divisible by 5 \n",
    "# process carried out by using while loop using if statement\n",
    "\n",
    "m=1\n",
    "l5=[] \n",
    "l7=[]\n",
    "while m<=100:\n",
    "    a=m*m*m\n",
    "    m=m+1\n",
    "    l5.append(a)\n",
    "    if a%4==0 or a%5==0:\n",
    "        l7.append(a)\n",
    "        print(a)\n",
    "        \n",
    "       \n",
    "    \n"
   ]
  },
  {
   "cell_type": "markdown",
   "id": "a342f44b-0fe9-40d1-9763-84c56c807d4e",
   "metadata": {},
   "source": [
    "************************"
   ]
  },
  {
   "cell_type": "markdown",
   "id": "0679910c-7131-4159-8bb9-813bbb64bd90",
   "metadata": {},
   "source": [
    "Q5. Write a program to filter count vowels in the below-given string.\n",
    "string = \"I want to become a data scientist\""
   ]
  },
  {
   "cell_type": "code",
   "execution_count": 4,
   "id": "52e7cbbc-6482-471b-b7df-fc398a1ef8cd",
   "metadata": {},
   "outputs": [],
   "source": [
    "string = \"I want to become a data scientist\""
   ]
  },
  {
   "cell_type": "code",
   "execution_count": 39,
   "id": "48df5d24-66a8-4305-92cc-b34782db9ae3",
   "metadata": {},
   "outputs": [
    {
     "data": {
      "text/plain": [
       "'I want to become a data scientist'"
      ]
     },
     "execution_count": 39,
     "metadata": {},
     "output_type": "execute_result"
    }
   ],
   "source": [
    "string"
   ]
  },
  {
   "cell_type": "code",
   "execution_count": 5,
   "id": "8dce1d31-d301-40cc-b633-f3f0194a42c4",
   "metadata": {},
   "outputs": [
    {
     "name": "stdin",
     "output_type": "stream",
     "text": [
      "enter the desired vowel h\n"
     ]
    },
    {
     "name": "stdout",
     "output_type": "stream",
     "text": [
      "incorrect input\n"
     ]
    }
   ],
   "source": [
    "# Below code finds out only the count of vowel present in a string, it does not show any result for \"u\" as \"u\" is not present in the string.\n",
    "\n",
    "vowel=input(\"enter the desired vowel\")\n",
    "n=string.count(vowel)\n",
    "if n>0 and vowel==\"a\" or n>0 and vowel==\"e\" or n>0 and vowel==\"i\" or n>0 and vowel==\"o\" or n>0 and vowel==\"u\":\n",
    "    print(\"Count\", string.count(vowel))\n",
    "else:\n",
    "    print(\"incorrect input\")"
   ]
  },
  {
   "cell_type": "code",
   "execution_count": null,
   "id": "3b520b34-f761-4058-9fee-13a8500344ec",
   "metadata": {},
   "outputs": [],
   "source": []
  }
 ],
 "metadata": {
  "kernelspec": {
   "display_name": "Python 3 (ipykernel)",
   "language": "python",
   "name": "python3"
  },
  "language_info": {
   "codemirror_mode": {
    "name": "ipython",
    "version": 3
   },
   "file_extension": ".py",
   "mimetype": "text/x-python",
   "name": "python",
   "nbconvert_exporter": "python",
   "pygments_lexer": "ipython3",
   "version": "3.10.6"
  }
 },
 "nbformat": 4,
 "nbformat_minor": 5
}
